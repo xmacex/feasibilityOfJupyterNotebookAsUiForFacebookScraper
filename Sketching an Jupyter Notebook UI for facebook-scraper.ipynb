{
 "cells": [
  {
   "cell_type": "markdown",
   "metadata": {},
   "source": [
    "# Would a Jupyter Notebook serve as an UI to `fb_scraper`?"
   ]
  },
  {
   "cell_type": "markdown",
   "metadata": {},
   "source": [
    "Some sketching and feasibility study for a Jupyter Notebook as an UI to [facebook-scraper](https://github.com/bacilo/facebook-scraper/tree/incorporate), and particularly it's `incorporate` branch."
   ]
  },
  {
   "cell_type": "code",
   "execution_count": 1,
   "metadata": {},
   "outputs": [],
   "source": [
    "import configparser\n",
    "import pandas as pd\n",
    "import matplotlib.pyplot as plt\n",
    "import seaborn as sns\n",
    "%matplotlib inline"
   ]
  },
  {
   "cell_type": "markdown",
   "metadata": {},
   "source": [
    "The scraper has a dash (`-`) in the directory name of the version control repository, so it can be imported little peculiarly as `fb_scraper = __import__(\"facebook-scraper\")`. But let's add it's directory to the path, and solve this later by arranding things."
   ]
  },
  {
   "cell_type": "code",
   "execution_count": 2,
   "metadata": {},
   "outputs": [],
   "source": [
    "import sys"
   ]
  },
  {
   "cell_type": "code",
   "execution_count": 3,
   "metadata": {},
   "outputs": [],
   "source": [
    "sys.path.append(\"../facebook-scraper\")"
   ]
  },
  {
   "cell_type": "code",
   "execution_count": 4,
   "metadata": {},
   "outputs": [],
   "source": [
    "import fb_scraper\n",
    "import fb_scraper.prodcons\n",
    "import fb_scraper.job"
   ]
  },
  {
   "cell_type": "markdown",
   "metadata": {},
   "source": [
    "Scraper setup. The config file looks like\n",
    "\n",
    "    [creds]\n",
    "    access_token = asdjasldjkasldkjasdkjwithoutquotes"
   ]
  },
  {
   "cell_type": "code",
   "execution_count": 9,
   "metadata": {},
   "outputs": [],
   "source": [
    "config = configparser.ConfigParser()\n",
    "config.read(\"config.ini\")\n",
    "creds = config[\"creds\"]"
   ]
  },
  {
   "cell_type": "code",
   "execution_count": 12,
   "metadata": {},
   "outputs": [],
   "source": [
    "mgr = fb_scraper.prodcons.Manager(dict(creds))"
   ]
  },
  {
   "cell_type": "markdown",
   "metadata": {},
   "source": [
    "Scraping job setup"
   ]
  },
  {
   "cell_type": "code",
   "execution_count": 14,
   "metadata": {},
   "outputs": [],
   "source": [
    "ethospagejob = fb_scraper.job.PageJob(node_id=\"822254694506527\")"
   ]
  },
  {
   "cell_type": "code",
   "execution_count": 15,
   "metadata": {},
   "outputs": [],
   "source": [
    "mgr.add_job(ethospagejob)"
   ]
  },
  {
   "cell_type": "markdown",
   "metadata": {},
   "source": [
    "![Make it so](http://laughshop.com/wp-content/uploads/2017/06/Make-It-So.png)\n",
    "\n",
    "The user must wait here."
   ]
  },
  {
   "cell_type": "code",
   "execution_count": 16,
   "metadata": {},
   "outputs": [
    {
     "name": "stderr",
     "output_type": "stream",
     "text": [
      "(Thread-4  - check_jobs_statuses): Job page_feed_822254694506527, total: 0 responses,1 requests,\n",
      "(Thread-9  - run): About to send 1 requests\n",
      "(Thread-9  - run): queued 1 responses received\n",
      "(Thread-4  - check_jobs_statuses): Job page_feed_822254694506527, total: 0 responses,1 requests,1 responses_queued,\n",
      "(Thread-4  - check_jobs_statuses): Job page_feed_822254694506527, total: 1 responses,6 requests,1 responses_queued,521 reactions,97 attachments,100 posts,48 comm,4 sharedposts,\n",
      "(Thread-8  - run): About to send 5 requests\n",
      "(Thread-8  - run): queued 3 responses received\n",
      "(Thread-4  - check_jobs_statuses): Job page_feed_822254694506527, total: 2 responses,11 requests,4 responses_queued,1408 reactions,194 attachments,200 posts,101 comm,10 sharedposts,\n",
      "(Thread-4  - check_jobs_statuses): Job page_feed_822254694506527, total: 3 responses,11 requests,4 responses_queued,1408 reactions,194 attachments,200 posts,101 comm,10 sharedposts,\n",
      "(Thread-4  - check_jobs_statuses): Job page_feed_822254694506527, total: 4 responses,11 requests,4 responses_queued,1408 reactions,194 attachments,200 posts,101 comm,10 sharedposts,\n",
      "(Thread-8  - run): About to send 7 requests\n",
      "(Thread-8  - run): queued 4 responses received\n",
      "(Thread-4  - check_jobs_statuses): Job page_feed_822254694506527, total: 5 responses,11 requests,8 responses_queued,1409 reactions,194 attachments,200 posts,101 comm,10 sharedposts,\n",
      "(Thread-4  - check_jobs_statuses): Job page_feed_822254694506527, total: 6 responses,14 requests,8 responses_queued,1495 reactions,288 attachments,300 posts,102 comm,12 sharedposts,\n",
      "(Thread-4  - check_jobs_statuses): Job page_feed_822254694506527, total: 7 responses,14 requests,8 responses_queued,1499 reactions,288 attachments,300 posts,102 comm,12 sharedposts,\n",
      "(Thread-4  - check_jobs_statuses): Job page_feed_822254694506527, total: 8 responses,14 requests,8 responses_queued,1499 reactions,288 attachments,300 posts,102 comm,12 sharedposts,\n",
      "(Thread-6  - run): About to send 3 requests\n",
      "(Thread-8  - run): About to send 3 requests\n",
      "(Thread-8  - run): queued 2 responses received\n",
      "(Thread-4  - check_jobs_statuses): Job page_feed_822254694506527, total: 8 responses,14 requests,10 responses_queued,1499 reactions,288 attachments,300 posts,102 comm,12 sharedposts,\n",
      "(Thread-4  - check_jobs_statuses): Job page_feed_822254694506527, total: 9 responses,14 requests,10 responses_queued,1499 reactions,288 attachments,300 posts,102 comm,12 sharedposts,\n",
      "(Thread-4  - check_jobs_statuses): Job page_feed_822254694506527, total: 10 responses,14 requests,10 responses_queued,1543 reactions,288 attachments,300 posts,102 comm,12 sharedposts,\n",
      "(Thread-6  - run): queued 2 responses received\n",
      "(Thread-4  - check_jobs_statuses): Job page_feed_822254694506527, total: 10 responses,14 requests,12 responses_queued,1543 reactions,288 attachments,300 posts,102 comm,12 sharedposts,\n",
      "(Thread-4  - check_jobs_statuses): Job page_feed_822254694506527, total: 11 responses,15 requests,12 responses_queued,1674 reactions,345 attachments,358 posts,106 comm,13 sharedposts,\n",
      "(Thread-4  - check_jobs_statuses): Job page_feed_822254694506527, total: 12 responses,15 requests,12 responses_queued,1674 reactions,345 attachments,358 posts,106 comm,13 sharedposts,\n",
      "(Thread-8  - run): About to send 2 requests\n",
      "(Thread-8  - run): queued 1 responses received\n",
      "(Thread-4  - check_jobs_statuses): Job page_feed_822254694506527, total: 13 responses,15 requests,13 responses_queued,1674 reactions,345 attachments,358 posts,106 comm,13 sharedposts,\n",
      "(Thread-6  - run): About to send 1 requests\n",
      "(Thread-6  - run): queued 1 responses received\n",
      "(Thread-4  - check_jobs_statuses): Job page_feed_822254694506527, total: 14 responses,15 requests,14 responses_queued,1674 reactions,345 attachments,358 posts,106 comm,13 sharedposts,\n",
      "(Thread-8  - run): About to send 1 requests\n",
      "(Thread-8  - run): queued 1 responses received\n",
      "(Thread-4  - check_jobs_statuses): Job page_feed_822254694506527, total: 14 responses,15 requests,15 responses_queued,1674 reactions,345 attachments,358 posts,106 comm,13 sharedposts,\n",
      "(Thread-4  - check_jobs_statuses): Job page_feed_822254694506527, total: 15 responses,15 requests,15 responses_queued,1674 reactions,345 attachments,358 posts,106 comm,13 sharedposts,\n",
      "(Thread-4  - check_jobs_statuses): Job 2017-10-17_12_12_09_472534_page_feed_822254694506527 has finished!\n"
     ]
    }
   ],
   "source": [
    "mgr.start()"
   ]
  },
  {
   "cell_type": "markdown",
   "metadata": {},
   "source": [
    "Thanks Sebastian for point out to me that the results go up a directory level, outside of `facebook-scraper` or wherever one happens to be.\n",
    "\n",
    "Proper way would be actually get this from the manager, by having the manager to retain completed jobs filenames from `Job.writers[].path` and `Job.writers[].file_name`. Anyway just some hand-holding here for the file reading operation:"
   ]
  },
  {
   "cell_type": "code",
   "execution_count": 20,
   "metadata": {},
   "outputs": [],
   "source": [
    "posts = pd.read_csv(\"output/2017-10-17_12_12_09_472534_page_feed_822254694506527/2017-10-17_12_12_09_472534_page_feed_822254694506527_posts.csv\",\n",
    "                    parse_dates=['created_time', 'updated_time'], skipfooter=1, engine=\"python\")"
   ]
  },
  {
   "cell_type": "code",
   "execution_count": 21,
   "metadata": {},
   "outputs": [
    {
     "data": {
      "text/plain": [
       "(357, 18)"
      ]
     },
     "execution_count": 21,
     "metadata": {},
     "output_type": "execute_result"
    }
   ],
   "source": [
    "posts.shape"
   ]
  },
  {
   "cell_type": "code",
   "execution_count": 261,
   "metadata": {},
   "outputs": [
    {
     "data": {
      "text/plain": [
       "Index(['id', 'story', 'created_time', 'message', 'picture', 'caption',\n",
       "       'description', 'from_id', 'from_name', 'name', 'object_id', 'parent_id',\n",
       "       'source', 'status_type', 'link', 'type', 'updated_time',\n",
       "       'shares_count'],\n",
       "      dtype='object')"
      ]
     },
     "execution_count": 261,
     "metadata": {},
     "output_type": "execute_result"
    }
   ],
   "source": [
    "posts.columns"
   ]
  },
  {
   "cell_type": "code",
   "execution_count": 22,
   "metadata": {},
   "outputs": [
    {
     "data": {
      "text/plain": [
       "id                      object\n",
       "story                   object\n",
       "created_time    datetime64[ns]\n",
       "message                 object\n",
       "picture                 object\n",
       "caption                 object\n",
       "description             object\n",
       "from_id                  int64\n",
       "from_name               object\n",
       "name                    object\n",
       "object_id               object\n",
       "parent_id               object\n",
       "source                  object\n",
       "status_type             object\n",
       "link                    object\n",
       "type                    object\n",
       "updated_time    datetime64[ns]\n",
       "shares_count             int64\n",
       "dtype: object"
      ]
     },
     "execution_count": 22,
     "metadata": {},
     "output_type": "execute_result"
    }
   ],
   "source": [
    "posts.dtypes"
   ]
  },
  {
   "cell_type": "code",
   "execution_count": 23,
   "metadata": {},
   "outputs": [
    {
     "data": {
      "text/plain": [
       "<matplotlib.axes._subplots.AxesSubplot at 0x10ab8ec18>"
      ]
     },
     "execution_count": 23,
     "metadata": {},
     "output_type": "execute_result"
    },
    {
     "data": {
      "image/png": "[encoded data removed]",
      "text/plain": [
       "<matplotlib.figure.Figure at 0x10b190ba8>"
      ]
     },
     "metadata": {},
     "output_type": "display_data"
    }
   ],
   "source": [
    "posts.type.value_counts().plot.pie(autopct='%.2f', figsize=(6, 6))"
   ]
  }
 ],
 "metadata": {
  "kernelspec": {
   "display_name": "Python 3",
   "language": "python",
   "name": "python3"
  },
  "language_info": {
   "codemirror_mode": {
    "name": "ipython",
    "version": 3
   },
   "file_extension": ".py",
   "mimetype": "text/x-python",
   "name": "python",
   "nbconvert_exporter": "python",
   "pygments_lexer": "ipython3",
   "version": "3.6.2"
  }
 },
 "nbformat": 4,
 "nbformat_minor": 2
}
